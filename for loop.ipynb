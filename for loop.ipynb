{
 "cells": [
  {
   "cell_type": "code",
   "execution_count": 48,
   "metadata": {},
   "outputs": [
    {
     "name": "stdout",
     "output_type": "stream",
     "text": [
      "enter the number of which you want to print the table3\n",
      "3 * 1 = 3\n",
      "3 * 2 = 6\n",
      "3 * 3 = 9\n",
      "3 * 4 = 12\n",
      "3 * 5 = 15\n",
      "3 * 6 = 18\n",
      "3 * 7 = 21\n",
      "3 * 8 = 24\n",
      "3 * 9 = 27\n",
      "3 * 10 = 30\n"
     ]
    }
   ],
   "source": [
    "#question#02\n",
    "\n",
    "\n",
    "\n",
    "x=int(input(\"enter the number of which you want to print the table\"))\n",
    "for i in range(1,11):\n",
    "  print(x,\"*\",i,\"=\", x*i)"
   ]
  },
  {
   "cell_type": "code",
   "execution_count": 28,
   "metadata": {},
   "outputs": [
    {
     "name": "stdout",
     "output_type": "stream",
     "text": [
      "Saylani Mass IT Training  \n",
      "\tSaylani Mass IT Training  \n",
      "Saylani Mass IT Training  \n",
      "\tSaylani Mass IT Training  \n",
      "Saylani Mass IT Training  \n",
      "\tSaylani Mass IT Training  \n",
      "Saylani Mass IT Training  \n",
      "\tSaylani Mass IT Training  \n",
      "Saylani Mass IT Training  \n",
      "\tSaylani Mass IT Training  \n"
     ]
    }
   ],
   "source": [
    "#question#01\n",
    "#output:01\n",
    "\n",
    "for i in range(1,11):\n",
    "    if (i%2==0):\n",
    "     print(\"\\tSaylani Mass IT Training  \")\n",
    "    else:\n",
    "     print(\"Saylani Mass IT Training  \")\n"
   ]
  },
  {
   "cell_type": "code",
   "execution_count": 30,
   "metadata": {},
   "outputs": [
    {
     "name": "stdout",
     "output_type": "stream",
     "text": [
      "Saylani Mass IT Training \t Saylani Mass IT Training \n",
      "  \n",
      "Saylani Mass IT Training \t Saylani Mass IT Training \n",
      "  \n",
      "Saylani Mass IT Training \t Saylani Mass IT Training \n",
      "  \n",
      "Saylani Mass IT Training \t Saylani Mass IT Training \n",
      "  \n",
      "Saylani Mass IT Training \t Saylani Mass IT Training \n",
      "  \n",
      "Saylani Mass IT Training \t Saylani Mass IT Training \n",
      "  \n",
      "Saylani Mass IT Training \t Saylani Mass IT Training \n",
      "  \n",
      "Saylani Mass IT Training \t Saylani Mass IT Training \n",
      "  \n"
     ]
    }
   ],
   "source": [
    "#output:02\n",
    "\n",
    "\n",
    "\n",
    "for i in range(1,9):\n",
    "     print(\"Saylani Mass IT Training \\t Saylani Mass IT Training \\n  \")"
   ]
  },
  {
   "cell_type": "code",
   "execution_count": 35,
   "metadata": {},
   "outputs": [
    {
     "name": "stdout",
     "output_type": "stream",
     "text": [
      " \t\t Saylani Mass IT Training \n",
      " Saylani Mass IT Training \tSaylani Mass IT Training  \n",
      " \t\t Saylani Mass IT Training \n",
      " Saylani Mass IT Training \tSaylani Mass IT Training  \n",
      " \t\t Saylani Mass IT Training \n",
      " Saylani Mass IT Training \tSaylani Mass IT Training  \n",
      " \t\t Saylani Mass IT Training \n",
      " Saylani Mass IT Training \tSaylani Mass IT Training  \n",
      " \t\t Saylani Mass IT Training \n",
      " Saylani Mass IT Training \tSaylani Mass IT Training  \n",
      " \t\t Saylani Mass IT Training \n",
      " Saylani Mass IT Training \tSaylani Mass IT Training  \n"
     ]
    }
   ],
   "source": [
    "#output:03\n",
    "\n",
    "for i in range(1,7):\n",
    "     print(\" \\t\\t Saylani Mass IT Training \\n Saylani Mass IT Training \\tSaylani Mass IT Training  \")"
   ]
  },
  {
   "cell_type": "code",
   "execution_count": 42,
   "metadata": {},
   "outputs": [
    {
     "name": "stdout",
     "output_type": "stream",
     "text": [
      "Saylani Mass IT Training \n",
      "\tSaylani Mass IT Training \n",
      "\t\tSaylani Mass IT Training \n",
      "\t\t\tSaylani Mass IT Training \n",
      "\t\tSaylani Mass IT Training \n",
      "\tSaylani Mass IT Training \n",
      "Saylani Mass IT Training \n"
     ]
    }
   ],
   "source": [
    "#output:04\n",
    "\n",
    "for i in range(0,7):\n",
    " if (i==0)or(i==6):\n",
    "  print(\"Saylani Mass IT Training \")\n",
    " elif (i==1)or(i==5):\n",
    "  print(\"\\tSaylani Mass IT Training \")\n",
    " elif (i==2)or(i==4):\n",
    "  print(\"\\t\\tSaylani Mass IT Training \")\n",
    " else:\n",
    "  print(\"\\t\\t\\tSaylani Mass IT Training \")"
   ]
  },
  {
   "cell_type": "code",
   "execution_count": null,
   "metadata": {},
   "outputs": [],
   "source": []
  }
 ],
 "metadata": {
  "kernelspec": {
   "display_name": "Python 3",
   "language": "python",
   "name": "python3"
  },
  "language_info": {
   "codemirror_mode": {
    "name": "ipython",
    "version": 3
   },
   "file_extension": ".py",
   "mimetype": "text/x-python",
   "name": "python",
   "nbconvert_exporter": "python",
   "pygments_lexer": "ipython3",
   "version": "3.7.6"
  }
 },
 "nbformat": 4,
 "nbformat_minor": 4
}
